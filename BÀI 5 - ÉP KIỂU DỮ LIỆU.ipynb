{
 "cells": [
  {
   "cell_type": "code",
   "execution_count": 1,
   "id": "2e43dfe6-0146-4e01-82a4-155c75cb2b52",
   "metadata": {},
   "outputs": [
    {
     "name": "stdout",
     "output_type": "stream",
     "text": [
      "2.5\n",
      "Kiểu dữ liệu của a:  <class 'int'>\n",
      "Kiểu dữ liệu của a:  <class 'float'>\n",
      "Kiểu dữ liệu của a:  <class 'float'>\n"
     ]
    }
   ],
   "source": [
    "a = 5\n",
    "b = 2.0\n",
    "c = a/b\n",
    "print(c)\n",
    "print('Kiểu dữ liệu của a: ', type(a))\n",
    "print('Kiểu dữ liệu của a: ', type(b))\n",
    "print('Kiểu dữ liệu của a: ', type(c))"
   ]
  },
  {
   "cell_type": "code",
   "execution_count": 2,
   "id": "359fcbd0-8f01-477a-a911-4a02412aa8e8",
   "metadata": {},
   "outputs": [
    {
     "name": "stdout",
     "output_type": "stream",
     "text": [
      "2.5\n",
      "Kiểu dữ liệu của a:  <class 'int'>\n",
      "Kiểu dữ liệu của a:  <class 'float'>\n",
      "Kiểu dữ liệu của a:  <class 'float'>\n"
     ]
    }
   ],
   "source": [
    "a = 5\n",
    "b = 2.0\n",
    "c = a/b\n",
    "print(c)\n",
    "print('Kiểu dữ liệu của a: ', type(a))\n",
    "print('Kiểu dữ liệu của a: ', type(b))\n",
    "print('Kiểu dữ liệu của a: ', type(c))"
   ]
  },
  {
   "cell_type": "code",
   "execution_count": 3,
   "id": "309b9c19-fec4-48ad-8772-1bfb6ecb9937",
   "metadata": {},
   "outputs": [],
   "source": [
    "# Python tự đổi kiểu dữ liệu cho biến để tránh mát mát dữ liệu"
   ]
  },
  {
   "cell_type": "code",
   "execution_count": 4,
   "id": "4ece4138-2fb9-452a-85ba-aa949735e58d",
   "metadata": {},
   "outputs": [
    {
     "ename": "TypeError",
     "evalue": "unsupported operand type(s) for +: 'int' and 'str'",
     "output_type": "error",
     "traceback": [
      "\u001b[1;31m---------------------------------------------------------------------------\u001b[0m",
      "\u001b[1;31mTypeError\u001b[0m                                 Traceback (most recent call last)",
      "Cell \u001b[1;32mIn[4], line 3\u001b[0m\n\u001b[0;32m      1\u001b[0m n \u001b[38;5;241m=\u001b[39m \u001b[38;5;241m100\u001b[39m\n\u001b[0;32m      2\u001b[0m m \u001b[38;5;241m=\u001b[39m \u001b[38;5;124m'\u001b[39m\u001b[38;5;124m200\u001b[39m\u001b[38;5;124m'\u001b[39m\n\u001b[1;32m----> 3\u001b[0m \u001b[38;5;28mprint\u001b[39m(n\u001b[38;5;241m+\u001b[39mm)\n",
      "\u001b[1;31mTypeError\u001b[0m: unsupported operand type(s) for +: 'int' and 'str'"
     ]
    }
   ],
   "source": [
    "n = 100\n",
    "m = '200'\n",
    "print(n+m)"
   ]
  },
  {
   "cell_type": "code",
   "execution_count": 6,
   "id": "e414e0a9-6f9e-4c4b-a4f0-f9ed3a37b794",
   "metadata": {},
   "outputs": [
    {
     "name": "stdout",
     "output_type": "stream",
     "text": [
      "300\n"
     ]
    }
   ],
   "source": [
    "n = 100\n",
    "m = \"200\"\n",
    "print(n+int(m))"
   ]
  },
  {
   "cell_type": "code",
   "execution_count": 9,
   "id": "38450617-96a2-4df1-b8e4-ffae2d55b808",
   "metadata": {},
   "outputs": [
    {
     "name": "stdout",
     "output_type": "stream",
     "text": [
      "100 200\n"
     ]
    }
   ],
   "source": [
    "n = 100\n",
    "m = \"200\"\n",
    "print(str(n)+' '+m)"
   ]
  }
 ],
 "metadata": {
  "kernelspec": {
   "display_name": "Python 3 (ipykernel)",
   "language": "python",
   "name": "python3"
  },
  "language_info": {
   "codemirror_mode": {
    "name": "ipython",
    "version": 3
   },
   "file_extension": ".py",
   "mimetype": "text/x-python",
   "name": "python",
   "nbconvert_exporter": "python",
   "pygments_lexer": "ipython3",
   "version": "3.12.4"
  }
 },
 "nbformat": 4,
 "nbformat_minor": 5
}
