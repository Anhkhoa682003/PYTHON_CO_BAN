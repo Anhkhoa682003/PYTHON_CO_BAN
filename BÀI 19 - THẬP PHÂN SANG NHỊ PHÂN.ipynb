{
 "cells": [
  {
   "cell_type": "code",
   "execution_count": 1,
   "id": "5dbb161b-54d4-40a2-bb36-b617992fa90b",
   "metadata": {},
   "outputs": [
    {
     "name": "stdin",
     "output_type": "stream",
     "text": [
      "Nhập vào số n > 0:  10\n"
     ]
    },
    {
     "name": "stdout",
     "output_type": "stream",
     "text": [
      "10 % 2 = 0\n",
      "n = 5\n",
      "5 % 2 = 1\n",
      "n = 2\n",
      "2 % 2 = 0\n",
      "n = 1\n",
      "1 % 2 = 1\n",
      "n = 0\n",
      "Kết quả: 1010\n"
     ]
    }
   ],
   "source": [
    "n = -1\n",
    "while(n<=0):\n",
    "    n = int(input('Nhập vào số n > 0: '))\n",
    "\n",
    "# chuyển từ thập phân sang nhị phân:\n",
    "ketqua = ''\n",
    "while(n>0):\n",
    "    ketqua = str(n%2)+ketqua\n",
    "    print('{0} % 2 = {1}'.format(n,n%2))\n",
    "    n = n // 2\n",
    "    print('n = {0}'.format(n))\n",
    "print('Kết quả: {0}'.format(ketqua))"
   ]
  },
  {
   "cell_type": "code",
   "execution_count": null,
   "id": "bebf4984-ebd7-48d0-8f64-218bedbb6dc9",
   "metadata": {},
   "outputs": [],
   "source": []
  }
 ],
 "metadata": {
  "kernelspec": {
   "display_name": "Python 3 (ipykernel)",
   "language": "python",
   "name": "python3"
  },
  "language_info": {
   "codemirror_mode": {
    "name": "ipython",
    "version": 3
   },
   "file_extension": ".py",
   "mimetype": "text/x-python",
   "name": "python",
   "nbconvert_exporter": "python",
   "pygments_lexer": "ipython3",
   "version": "3.12.4"
  }
 },
 "nbformat": 4,
 "nbformat_minor": 5
}
