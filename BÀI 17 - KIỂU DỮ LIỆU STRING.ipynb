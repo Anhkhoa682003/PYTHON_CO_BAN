{
 "cells": [
  {
   "cell_type": "code",
   "execution_count": 1,
   "id": "d8e90bcd-2e92-418d-83c3-7eb587d5fde1",
   "metadata": {},
   "outputs": [
    {
     "name": "stdout",
     "output_type": "stream",
     "text": [
      "<class 'int'>\n",
      "<class 'float'>\n",
      "<class 'bool'>\n",
      "<class 'str'>\n"
     ]
    }
   ],
   "source": [
    "# Ôn tập\n",
    "a = 10\n",
    "print(type(a))\n",
    "b = 10.5\n",
    "print(type(b))\n",
    "c = True\n",
    "print(type(c))\n",
    "d = 'Xin chào'\n",
    "print(type(d))"
   ]
  },
  {
   "cell_type": "code",
   "execution_count": 7,
   "id": "37261f72-aca8-4a36-8e2c-9a0b762e3a58",
   "metadata": {},
   "outputs": [
    {
     "name": "stdout",
     "output_type": "stream",
     "text": [
      "Xin chào thế giới\n"
     ]
    }
   ],
   "source": [
    "# Vào bài học chính\n",
    "# chuỗi cộng chuỗi\n",
    "s1 = 'Xin chào'\n",
    "s2 = 'thế giới'\n",
    "s3 = s1 + ' ' + s2\n",
    "print(s3)"
   ]
  },
  {
   "cell_type": "code",
   "execution_count": 11,
   "id": "384a10ef-0ff2-4b1d-a10f-0db569ca3af6",
   "metadata": {},
   "outputs": [
    {
     "name": "stdout",
     "output_type": "stream",
     "text": [
      "\n",
      "Dòng 1\n",
      "Dòng 2\n",
      "Dòng 3\n",
      "\n"
     ]
    }
   ],
   "source": [
    "# tạo chuỗi nhiều dòng\n",
    "chuoi_nhieu_dong = '''\n",
    "Dòng 1\n",
    "Dòng 2\n",
    "Dòng 3\n",
    "'''\n",
    "print(chuoi_nhieu_dong)"
   ]
  },
  {
   "cell_type": "code",
   "execution_count": 17,
   "id": "7e73d1de-c315-4b0b-8b16-cf7372e92c79",
   "metadata": {},
   "outputs": [
    {
     "name": "stdout",
     "output_type": "stream",
     "text": [
      "Em hứa làm bài tập đầy đủ\n",
      "Em hứa làm bài tập đầy đủ\n",
      "Em hứa làm bài tập đầy đủ\n",
      "Em hứa làm bài tập đầy đủ\n",
      "Em hứa làm bài tập đầy đủ\n",
      "Em hứa làm bài tập đầy đủ\n",
      "Em hứa làm bài tập đầy đủ\n",
      "Em hứa làm bài tập đầy đủ\n",
      "Em hứa làm bài tập đầy đủ\n",
      "Em hứa làm bài tập đầy đủ\n",
      "\n"
     ]
    }
   ],
   "source": [
    "# nhân bản chuỗi nhiều lần\n",
    "chep_phat = 'Em hứa làm bài tập đầy đủ'\n",
    "print((chep_phat+'\\n')*10)"
   ]
  },
  {
   "cell_type": "code",
   "execution_count": 23,
   "id": "ea82c50b-8c95-4ea6-9183-25df641c0607",
   "metadata": {},
   "outputs": [
    {
     "name": "stdout",
     "output_type": "stream",
     "text": [
      "Chuỗi 2 là chuỗi con của chuỗi 1\n",
      "Chuỗi 3 không phải là chuỗi con của chuỗi 1\n"
     ]
    }
   ],
   "source": [
    "# kiểm tra kí tự nằm trong chuỗi\n",
    "chuoi_1 = 'Xin chào thế giới'\n",
    "chuoi_2 = 'Xin chào'\n",
    "chuoi_3 = 'Chào cái con cac'\n",
    "if chuoi_2 in chuoi_1:\n",
    "    print('Chuỗi 2 là chuỗi con của chuỗi 1')\n",
    "else:\n",
    "    print('Chuỗi 2 không phải là chuỗi con của chuỗi 1')\n",
    "    \n",
    "if chuoi_3 in chuoi_1:\n",
    "    print('Chuỗi 3 là chuỗi con của chuỗi 1')\n",
    "else:\n",
    "    print('Chuỗi 3 không phải là chuỗi con của chuỗi 1')    "
   ]
  },
  {
   "cell_type": "code",
   "execution_count": 29,
   "id": "5ad9672b-7fd4-4f4a-90a1-a79c00ea52d0",
   "metadata": {},
   "outputs": [
    {
     "name": "stdout",
     "output_type": "stream",
     "text": [
      "Xin chào thế giới !\n",
      "XIN CHÀO THẾ GIỚI !\n",
      "xin chào thế giới !\n"
     ]
    }
   ],
   "source": [
    "# Viết hoa chữ cái đầu của chuỗi\n",
    "s = 'xin chào thế giới !'\n",
    "s = s.capitalize()\n",
    "print(s)\n",
    "# Viết hoa toàn bộ chuỗi\n",
    "s = s.upper()\n",
    "print(s)\n",
    "# viết thường toàn bộ chuỗi\n",
    "s = s.lower()\n",
    "print(s)"
   ]
  },
  {
   "cell_type": "code",
   "execution_count": 33,
   "id": "dafea787-2730-4301-96e2-05c4eab9bb5e",
   "metadata": {},
   "outputs": [
    {
     "name": "stdout",
     "output_type": "stream",
     "text": [
      "0\n",
      "-1\n",
      "2\n"
     ]
    }
   ],
   "source": [
    "# tìm và đếm số lượng chuỗi con:\n",
    "s = 'CNTT là xu hướng hiện nay. Bạn nên học CNTT !'\n",
    "print(s.find('CNTT')) # Nó sẽ in ra vị trí đầu tiên có chứa chuỗi con cần tìm\n",
    "print(s.find('CNTY')) # Trả về -1 nếu không tìm thấy\n",
    "print(s.count('CNTT')) # Đếm số lượng chuỗi con đúng điều kiện"
   ]
  },
  {
   "cell_type": "code",
   "execution_count": 39,
   "id": "b3972dcf-5005-444c-9d5f-73ecd9ebba3f",
   "metadata": {},
   "outputs": [
    {
     "name": "stdout",
     "output_type": "stream",
     "text": [
      "Công nghệ thông tin là xu hướng hiện nay. Bạn nên học Công nghệ thông tin !\n"
     ]
    }
   ],
   "source": [
    "# thay thế chuỗi con\n",
    "s = 'CNTT là xu hướng hiện nay. Bạn nên học CNTT !'\n",
    "s = s.replace('CNTT','Công nghệ thông tin')\n",
    "print(s)"
   ]
  },
  {
   "cell_type": "code",
   "execution_count": 43,
   "id": "10f00f9a-f247-4be0-b2cf-3595f9f7938f",
   "metadata": {},
   "outputs": [
    {
     "name": "stdout",
     "output_type": "stream",
     "text": [
      "['Công', 'nghệ', 'thông', 'tin', 'là', 'xu', 'hướng', 'hiện', 'nay.', 'Bạn', 'nên', 'học', 'Công', 'nghệ', 'thông', 'tin', '!']\n"
     ]
    }
   ],
   "source": [
    "# cắt chuỗi thành 1 list\n",
    "list1 = s.split(' ')\n",
    "print(list1)"
   ]
  },
  {
   "cell_type": "code",
   "execution_count": 45,
   "id": "427df801-c887-4bb1-91ed-f07e08e759be",
   "metadata": {},
   "outputs": [
    {
     "name": "stdout",
     "output_type": "stream",
     "text": [
      "Công nghệ \n"
     ]
    }
   ],
   "source": [
    "# in 1 phần chuỗi\n",
    "print(s[0:10])"
   ]
  },
  {
   "cell_type": "code",
   "execution_count": null,
   "id": "6c0aa1b1-2842-4ae3-86a3-cf2900332a84",
   "metadata": {},
   "outputs": [],
   "source": [
    " "
   ]
  }
 ],
 "metadata": {
  "kernelspec": {
   "display_name": "Python 3 (ipykernel)",
   "language": "python",
   "name": "python3"
  },
  "language_info": {
   "codemirror_mode": {
    "name": "ipython",
    "version": 3
   },
   "file_extension": ".py",
   "mimetype": "text/x-python",
   "name": "python",
   "nbconvert_exporter": "python",
   "pygments_lexer": "ipython3",
   "version": "3.12.4"
  }
 },
 "nbformat": 4,
 "nbformat_minor": 5
}
