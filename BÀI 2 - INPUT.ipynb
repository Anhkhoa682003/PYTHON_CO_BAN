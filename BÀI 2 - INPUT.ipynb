{
 "cells": [
  {
   "cell_type": "code",
   "execution_count": 1,
   "id": "bd48c2da-77e7-4359-8cfe-3534a8965f07",
   "metadata": {},
   "outputs": [
    {
     "name": "stdin",
     "output_type": "stream",
     "text": [
      "Nhập vào số a 1\n",
      "Nhập vào số b 2\n"
     ]
    },
    {
     "name": "stdout",
     "output_type": "stream",
     "text": [
      "Số a = 1 và số b = 2\n"
     ]
    }
   ],
   "source": [
    "a = input('Nhập vào số a')\n",
    "b = input('Nhập vào số b')\n",
    "print('Số a = {0} và số b = {1}'.format(a,b))"
   ]
  },
  {
   "cell_type": "code",
   "execution_count": 2,
   "id": "f0a4cf6e-3eeb-4dee-bc26-8159aeeee32e",
   "metadata": {},
   "outputs": [
    {
     "name": "stdin",
     "output_type": "stream",
     "text": [
      "Nhập vào họ:  anh \n",
      "Nhập vào tên:  khoa\n"
     ]
    },
    {
     "name": "stdout",
     "output_type": "stream",
     "text": [
      "tôi tên là anh  khoa\n"
     ]
    }
   ],
   "source": [
    "ho = input('Nhập vào họ: ')\n",
    "ten = input('Nhập vào tên: ')\n",
    "print('tôi tên là {0} {1}'.format(ho,ten))"
   ]
  },
  {
   "cell_type": "code",
   "execution_count": null,
   "id": "de13a634-e137-4729-9ac7-4e918e35162a",
   "metadata": {},
   "outputs": [],
   "source": []
  }
 ],
 "metadata": {
  "kernelspec": {
   "display_name": "Python 3 (ipykernel)",
   "language": "python",
   "name": "python3"
  },
  "language_info": {
   "codemirror_mode": {
    "name": "ipython",
    "version": 3
   },
   "file_extension": ".py",
   "mimetype": "text/x-python",
   "name": "python",
   "nbconvert_exporter": "python",
   "pygments_lexer": "ipython3",
   "version": "3.12.4"
  }
 },
 "nbformat": 4,
 "nbformat_minor": 5
}
