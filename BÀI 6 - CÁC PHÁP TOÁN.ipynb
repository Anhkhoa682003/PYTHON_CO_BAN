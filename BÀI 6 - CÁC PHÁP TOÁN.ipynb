{
 "cells": [
  {
   "cell_type": "code",
   "execution_count": 1,
   "id": "cd445ca7-624c-4d69-905f-5e644a2beba5",
   "metadata": {},
   "outputs": [],
   "source": [
    "# %: CHIA LÁY PHẦN NDUW\n",
    "# // CHIA LẤY PHẦN \n",
    "# ** MŨ"
   ]
  },
  {
   "cell_type": "code",
   "execution_count": 1,
   "id": "7430e1ff-88b6-43da-a4dc-5e83d4857260",
   "metadata": {},
   "outputs": [
    {
     "name": "stdin",
     "output_type": "stream",
     "text": [
      "Nhập vào số a:  19\n",
      "Nhập vào số b:  5\n"
     ]
    },
    {
     "name": "stdout",
     "output_type": "stream",
     "text": [
      "a + b = 24.0\n",
      "a - b = 14.0\n",
      "a * b = 95.0\n",
      "a / b = 3.8\n",
      "a ** b = 2476099.0\n",
      "a % b = 4.0\n",
      "a // b = 3.0\n"
     ]
    }
   ],
   "source": [
    "a = float(input('Nhập vào số a: '))\n",
    "b = float(input('Nhập vào số b: '))\n",
    "\n",
    "print('a + b = {0}'.format(a+b))\n",
    "print('a - b = {0}'.format(a-b))\n",
    "print('a * b = {0}'.format(a*b))\n",
    "print('a / b = {0}'.format(a/b))\n",
    "print('a ** b = {0}'.format(a**b))\n",
    "print('a % b = {0}'.format(a%b))\n",
    "print('a // b = {0}'.format(a//b))"
   ]
  },
  {
   "cell_type": "code",
   "execution_count": null,
   "id": "aa234712-6bd2-4d54-b588-0b75c8b34bc1",
   "metadata": {},
   "outputs": [],
   "source": []
  },
  {
   "cell_type": "code",
   "execution_count": null,
   "id": "96aa3c4b-0fbb-4760-aaef-1184929700ce",
   "metadata": {},
   "outputs": [],
   "source": []
  }
 ],
 "metadata": {
  "kernelspec": {
   "display_name": "Python 3 (ipykernel)",
   "language": "python",
   "name": "python3"
  },
  "language_info": {
   "codemirror_mode": {
    "name": "ipython",
    "version": 3
   },
   "file_extension": ".py",
   "mimetype": "text/x-python",
   "name": "python",
   "nbconvert_exporter": "python",
   "pygments_lexer": "ipython3",
   "version": "3.12.4"
  }
 },
 "nbformat": 4,
 "nbformat_minor": 5
}
