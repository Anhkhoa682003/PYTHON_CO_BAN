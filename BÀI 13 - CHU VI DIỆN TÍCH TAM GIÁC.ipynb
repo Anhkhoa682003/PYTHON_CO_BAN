{
 "cells": [
  {
   "cell_type": "code",
   "execution_count": 3,
   "id": "694d2253-13de-4ba9-a9ee-42e48ee716f6",
   "metadata": {},
   "outputs": [],
   "source": [
    "# 1. Xác định 3 điểm có tạo thành tam giác k\n",
    "# 2. Nếu tạo thành tam giác: Xuất ra chu vi và diện tích của tam giác"
   ]
  },
  {
   "cell_type": "code",
   "execution_count": 4,
   "id": "8299194c-b3eb-4ba4-b417-b0fdd141baa5",
   "metadata": {},
   "outputs": [],
   "source": [
    "import math"
   ]
  },
  {
   "cell_type": "code",
   "execution_count": 5,
   "id": "7d0b8cdc-f42a-451b-bfb7-80f350db8dd1",
   "metadata": {},
   "outputs": [
    {
     "name": "stdin",
     "output_type": "stream",
     "text": [
      "Nhập vào xA:  6\n",
      "Nhập vào yA:  2\n",
      "Nhập vào xB:  4\n",
      "Nhập vào yB:  8\n",
      "Nhập vào xC:  5\n",
      "Nhập vào yC:  1\n"
     ]
    }
   ],
   "source": [
    "# Nhập dữ liệu:\n",
    "xA = float(input('Nhập vào xA: '))\n",
    "yA = float(input('Nhập vào yA: '))\n",
    "xB = float(input('Nhập vào xB: '))\n",
    "yB = float(input('Nhập vào yB: '))\n",
    "xC = float(input('Nhập vào xC: '))\n",
    "yC = float(input('Nhập vào yC: '))"
   ]
  },
  {
   "cell_type": "code",
   "execution_count": 6,
   "id": "1307bc4a-fcf7-4c94-a8b7-3bf16775f1b9",
   "metadata": {},
   "outputs": [],
   "source": [
    "ab= math.sqrt((xB-xA)**2 + (yB-yA)**2)\n",
    "bc= math.sqrt((xC-xB)**2 + (yC-yB)**2)\n",
    "ac= math.sqrt((xC-xA)**2 + (yC-yA)**2)"
   ]
  },
  {
   "cell_type": "code",
   "execution_count": 8,
   "id": "ef6c62c0-119a-4ba4-9892-476b439b05af",
   "metadata": {},
   "outputs": [
    {
     "name": "stdout",
     "output_type": "stream",
     "text": [
      "ab = 6.324555320336759\n",
      "bc = 1.4142135623730951\n",
      "ac = 7.0710678118654755\n"
     ]
    }
   ],
   "source": [
    "print('ab = {0}'.format(ab))\n",
    "print('bc = {0}'.format(ac))\n",
    "print('ac = {0}'.format(bc))           "
   ]
  },
  {
   "cell_type": "code",
   "execution_count": 10,
   "id": "2c63f94e-1e47-4cde-9d56-83550ff73c22",
   "metadata": {},
   "outputs": [
    {
     "name": "stdout",
     "output_type": "stream",
     "text": [
      "Đã tạo thành hình tam giác\n",
      "Chu vi = 14.80983669457533\n",
      "Diện tích = 14.80983669457533\n"
     ]
    }
   ],
   "source": [
    "# kiểm tra\n",
    "if (ab+bc > ac) and (ab+ac > bc) and (bc+bc > ab):\n",
    "    print('Đã tạo thành hình tam giác')\n",
    "    cv = ab+ac+bc\n",
    "    print('Chu vi = {0}'.format(cv))\n",
    "    p = cv/2\n",
    "    dt = math.sqrt(p*(p-ab)*(p-bc)*(p-ac))\n",
    "    print('Diện tích = {0}'.format(cv))\n",
    "else: \n",
    "    print('Không tạo thành tam giác')"
   ]
  },
  {
   "cell_type": "code",
   "execution_count": null,
   "id": "8f619c82-af8e-46fa-977a-b4b282380033",
   "metadata": {},
   "outputs": [],
   "source": []
  }
 ],
 "metadata": {
  "kernelspec": {
   "display_name": "Python 3 (ipykernel)",
   "language": "python",
   "name": "python3"
  },
  "language_info": {
   "codemirror_mode": {
    "name": "ipython",
    "version": 3
   },
   "file_extension": ".py",
   "mimetype": "text/x-python",
   "name": "python",
   "nbconvert_exporter": "python",
   "pygments_lexer": "ipython3",
   "version": "3.12.4"
  }
 },
 "nbformat": 4,
 "nbformat_minor": 5
}
