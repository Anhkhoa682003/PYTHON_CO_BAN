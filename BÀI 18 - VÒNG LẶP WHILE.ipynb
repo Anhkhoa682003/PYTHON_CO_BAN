{
 "cells": [
  {
   "cell_type": "code",
   "execution_count": 19,
   "id": "393d86c0-af64-43c3-ab20-a08515935acc",
   "metadata": {},
   "outputs": [
    {
     "name": "stdin",
     "output_type": "stream",
     "text": [
      "Nhập vào số phần tử tối đa muốn cộng tổng ( lớn hơn 0 ):  10\n"
     ]
    },
    {
     "name": "stdout",
     "output_type": "stream",
     "text": [
      "tong = 55\n"
     ]
    }
   ],
   "source": [
    "n = -1\n",
    "while(n<0):\n",
    "    n = int(input('Nhập vào số phần tử tối đa muốn cộng tổng ( lớn hơn 0 ): '))\n",
    "\n",
    "i = 0\n",
    "tong = 0\n",
    "while(i<=n):\n",
    "    tong+=i\n",
    "    i+=1\n",
    "print('tong = {0}'.format(tong))"
   ]
  },
  {
   "cell_type": "code",
   "execution_count": 17,
   "id": "61e96ccf-207d-4e59-a374-beec5875b9ce",
   "metadata": {},
   "outputs": [
    {
     "name": "stdout",
     "output_type": "stream",
     "text": [
      "0  - Bên trong vòng lặp\n",
      "1  - Bên trong vòng lặp\n",
      "2  - Bên trong vòng lặp\n",
      "3  - Bên trong vòng lặp\n",
      "4  - Bên trong vòng lặp\n",
      "5  - Bên trong vòng lặp\n",
      "6  - Bên trong vòng lặp\n",
      "7  - Bên trong vòng lặp\n",
      "8  - Bên trong vòng lặp\n",
      "9  - Bên trong vòng lặp\n",
      "10  - Bên trong vòng lặp\n",
      "11  - Bên ngoài vòng lặp\n"
     ]
    }
   ],
   "source": [
    "j = 0\n",
    "while(j<=10):\n",
    "    print(j, ' - Bên trong vòng lặp')\n",
    "    j+=1\n",
    "    # if (j>=5): break\n",
    "else:\n",
    "    print(j, ' - Bên ngoài vòng lặp')"
   ]
  },
  {
   "cell_type": "code",
   "execution_count": null,
   "id": "b0b54717-0ed1-4b88-b728-55c118bae1b5",
   "metadata": {},
   "outputs": [],
   "source": []
  }
 ],
 "metadata": {
  "kernelspec": {
   "display_name": "Python 3 (ipykernel)",
   "language": "python",
   "name": "python3"
  },
  "language_info": {
   "codemirror_mode": {
    "name": "ipython",
    "version": 3
   },
   "file_extension": ".py",
   "mimetype": "text/x-python",
   "name": "python",
   "nbconvert_exporter": "python",
   "pygments_lexer": "ipython3",
   "version": "3.12.4"
  }
 },
 "nbformat": 4,
 "nbformat_minor": 5
}
