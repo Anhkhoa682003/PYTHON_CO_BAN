{
 "cells": [
  {
   "cell_type": "code",
   "execution_count": 18,
   "id": "b5098013-6166-427e-8ad5-1b79528e0a43",
   "metadata": {},
   "outputs": [
    {
     "name": "stdin",
     "output_type": "stream",
     "text": [
      "Nhập số n:  10\n"
     ]
    },
    {
     "name": "stdout",
     "output_type": "stream",
     "text": [
      "i = 0\n",
      "i = 1\n",
      "i = 2\n",
      "i = 3\n",
      "i = 4\n",
      "i = 5\n",
      "i = 6\n",
      "i = 7\n",
      "i = 8\n",
      "i = 9\n",
      "i = 10\n",
      "Tổng = 55\n"
     ]
    }
   ],
   "source": [
    "n = int(input('Nhập số n: '))\n",
    "tong = 0\n",
    "for i in range(n+1):\n",
    "    print('i = {0}'.format(i))\n",
    "    tong+=i\n",
    "print('Tổng = {0}'.format(tong))"
   ]
  },
  {
   "cell_type": "code",
   "execution_count": 26,
   "id": "a05aa76c-b2d3-4d28-839e-a8e9e11a9781",
   "metadata": {},
   "outputs": [
    {
     "name": "stdin",
     "output_type": "stream",
     "text": [
      "Nhập số n:  10\n"
     ]
    },
    {
     "name": "stdout",
     "output_type": "stream",
     "text": [
      "i = 0\n",
      "i = 2\n",
      "i = 4\n",
      "i = 6\n",
      "i = 8\n",
      "i = 10\n",
      "Tổng = 30\n"
     ]
    }
   ],
   "source": [
    "# vòng lặp có bước nhảy\n",
    "n = int(input('Nhập số n: '))\n",
    "tong = 0\n",
    "for i in range(0,n+1,2):\n",
    "    print('i = {0}'.format(i))\n",
    "    tong+=i\n",
    "print('Tổng = {0}'.format(tong))"
   ]
  },
  {
   "cell_type": "code",
   "execution_count": 32,
   "id": "73f211aa-580d-4a8b-9063-88ef89cb0d40",
   "metadata": {},
   "outputs": [
    {
     "name": "stdin",
     "output_type": "stream",
     "text": [
      "Nhập số n:  10\n"
     ]
    },
    {
     "name": "stdout",
     "output_type": "stream",
     "text": [
      "i = 10\n",
      "i = 9\n",
      "i = 8\n",
      "i = 7\n",
      "i = 6\n",
      "i = 5\n",
      "i = 4\n",
      "i = 3\n",
      "i = 2\n",
      "i = 1\n",
      "Tổng = 55\n"
     ]
    }
   ],
   "source": [
    "# vòng lặp ngược\n",
    "n = int(input('Nhập số n: '))\n",
    "tong = 0\n",
    "for i in range(n,0,-1):\n",
    "    print('i = {0}'.format(i))\n",
    "    tong+=i\n",
    "print('Tổng = {0}'.format(tong))"
   ]
  },
  {
   "cell_type": "code",
   "execution_count": 37,
   "id": "5162f40a-d8d2-4dfa-a979-03814a6e7bc4",
   "metadata": {},
   "outputs": [
    {
     "name": "stdout",
     "output_type": "stream",
     "text": [
      "In màu: red\n",
      "In màu: green\n",
      "In màu: orange\n"
     ]
    }
   ],
   "source": [
    "# vòng lặp + list\n",
    "colors = ['red','green','orange']\n",
    "for color in colors:\n",
    "    print('In màu: {0}'.format(color))"
   ]
  },
  {
   "cell_type": "code",
   "execution_count": null,
   "id": "82fa18fa-7aa8-4629-bb48-f687076901e2",
   "metadata": {},
   "outputs": [],
   "source": []
  }
 ],
 "metadata": {
  "kernelspec": {
   "display_name": "Python 3 (ipykernel)",
   "language": "python",
   "name": "python3"
  },
  "language_info": {
   "codemirror_mode": {
    "name": "ipython",
    "version": 3
   },
   "file_extension": ".py",
   "mimetype": "text/x-python",
   "name": "python",
   "nbconvert_exporter": "python",
   "pygments_lexer": "ipython3",
   "version": "3.12.4"
  }
 },
 "nbformat": 4,
 "nbformat_minor": 5
}
