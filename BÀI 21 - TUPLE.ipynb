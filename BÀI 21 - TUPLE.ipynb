{
 "cells": [
  {
   "cell_type": "code",
   "execution_count": 5,
   "id": "ef11cae2-1290-4e11-908f-bd14efb98243",
   "metadata": {},
   "outputs": [],
   "source": [
    "gioitinh = ('Nam','Nữ')\n",
    "lophoc = (1,2,3,4,5,6,7,8,9,10,11,12)\n",
    "traicay = ('Táo','Chuối','Cam','Mận','Dưa hấu')"
   ]
  },
  {
   "cell_type": "code",
   "execution_count": 7,
   "id": "eb8159e5-b92d-407b-974c-5b16f4437a14",
   "metadata": {},
   "outputs": [
    {
     "name": "stdout",
     "output_type": "stream",
     "text": [
      "Nam\n"
     ]
    }
   ],
   "source": [
    "print(gioitinh[0])"
   ]
  },
  {
   "cell_type": "code",
   "execution_count": 9,
   "id": "bf277286-3f98-47e2-bfd7-7382ea2ba2fa",
   "metadata": {},
   "outputs": [
    {
     "name": "stdout",
     "output_type": "stream",
     "text": [
      "('Táo', 'Chuối')\n"
     ]
    }
   ],
   "source": [
    "print(traicay[0:2])"
   ]
  },
  {
   "cell_type": "code",
   "execution_count": 11,
   "id": "0e82474b-49db-4530-96c9-3f864f068af2",
   "metadata": {},
   "outputs": [],
   "source": [
    "# Không được gõ code sau:\n",
    "# lophoc[0]\n",
    "#error: 'tuple' obkect doé not support item assignment - không thể gán dũ liệu ( dữ liệu và vị trí của nó đã cố định, không cho phép đổi )"
   ]
  },
  {
   "cell_type": "code",
   "execution_count": 13,
   "id": "03cd1643-0d95-4d9e-8c7f-7577a57f0427",
   "metadata": {},
   "outputs": [
    {
     "name": "stdout",
     "output_type": "stream",
     "text": [
      "Táo\n",
      "Chuối\n",
      "Cam\n",
      "Mận\n",
      "Dưa hấu\n"
     ]
    }
   ],
   "source": [
    "for x in traicay:\n",
    "    print(x)"
   ]
  },
  {
   "cell_type": "code",
   "execution_count": 15,
   "id": "5d52161d-2174-414e-ae86-7bec8c6e3263",
   "metadata": {},
   "outputs": [
    {
     "name": "stdout",
     "output_type": "stream",
     "text": [
      "(1, 2, 3, 4, 5, 6)\n"
     ]
    }
   ],
   "source": [
    "# nối 2 tuple\n",
    "y = (1,2,3) + (4,5,6)\n",
    "print(y)"
   ]
  },
  {
   "cell_type": "code",
   "execution_count": 17,
   "id": "817db72d-c6f0-4af8-9dc5-de9fa06a22c7",
   "metadata": {},
   "outputs": [
    {
     "name": "stdout",
     "output_type": "stream",
     "text": [
      "(1, 2, 3, 1, 2, 3)\n"
     ]
    }
   ],
   "source": [
    "# nhân bản tuple\n",
    "y = (1,2,3) * 2\n",
    "print(y)"
   ]
  },
  {
   "cell_type": "code",
   "execution_count": 19,
   "id": "a22bc2d9-b475-4159-ac5f-9ff9814c13bb",
   "metadata": {},
   "outputs": [
    {
     "name": "stdout",
     "output_type": "stream",
     "text": [
      "True\n",
      "False\n"
     ]
    }
   ],
   "source": [
    "# kiểm tra phần tử tồn tại trong tuple\n",
    "print('Táo' in traicay)\n",
    "print('Bom' in traicay)"
   ]
  },
  {
   "cell_type": "code",
   "execution_count": 21,
   "id": "fa6b2625-fa58-4418-a3bb-9a0ac0d32d3c",
   "metadata": {},
   "outputs": [
    {
     "name": "stdout",
     "output_type": "stream",
     "text": [
      "5\n"
     ]
    }
   ],
   "source": [
    "x = len(traicay)\n",
    "print(x)"
   ]
  },
  {
   "cell_type": "code",
   "execution_count": 25,
   "id": "766c3018-fd3d-4d36-8c79-ed33be0a00a0",
   "metadata": {},
   "outputs": [
    {
     "name": "stdout",
     "output_type": "stream",
     "text": [
      "1\n",
      "0\n"
     ]
    }
   ],
   "source": [
    "print(traicay.count('Táo'))\n",
    "print(traicay.count('Bom'))"
   ]
  },
  {
   "cell_type": "code",
   "execution_count": 31,
   "id": "181e794a-771e-41d5-b277-a0bceb340b4e",
   "metadata": {},
   "outputs": [
    {
     "name": "stdout",
     "output_type": "stream",
     "text": [
      "Cam\n",
      "Táo\n",
      "1\n",
      "12\n",
      "78\n"
     ]
    }
   ],
   "source": [
    "# min và max của tuple xếp theo alphabet\n",
    "print(min(traicay))\n",
    "print(max(traicay))\n",
    "# min và max của tuple chúa toán số\n",
    "print(min(lophoc))\n",
    "print(max(lophoc))\n",
    "# sum danh cho tuple chứa toàn số\n",
    "print(sum(lophoc))"
   ]
  },
  {
   "cell_type": "code",
   "execution_count": 33,
   "id": "b8113632-2083-47a8-ad4e-d3ff5f801952",
   "metadata": {},
   "outputs": [
    {
     "name": "stdout",
     "output_type": "stream",
     "text": [
      "['Cam', 'Chuối', 'Dưa hấu', 'Mận', 'Táo']\n"
     ]
    }
   ],
   "source": [
    "# sắp xếp tuple theo alphabet và chuyển về list\n",
    "listTraicay = sorted(traicay)\n",
    "print(listTraicay)"
   ]
  },
  {
   "cell_type": "code",
   "execution_count": null,
   "id": "806fe96f-9b90-4916-8815-f081dde31052",
   "metadata": {},
   "outputs": [],
   "source": []
  }
 ],
 "metadata": {
  "kernelspec": {
   "display_name": "Python 3 (ipykernel)",
   "language": "python",
   "name": "python3"
  },
  "language_info": {
   "codemirror_mode": {
    "name": "ipython",
    "version": 3
   },
   "file_extension": ".py",
   "mimetype": "text/x-python",
   "name": "python",
   "nbconvert_exporter": "python",
   "pygments_lexer": "ipython3",
   "version": "3.12.4"
  }
 },
 "nbformat": 4,
 "nbformat_minor": 5
}
