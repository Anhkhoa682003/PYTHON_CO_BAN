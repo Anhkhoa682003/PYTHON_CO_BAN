{
 "cells": [
  {
   "cell_type": "code",
   "execution_count": 1,
   "id": "d4b2f7bb-97b0-4b9b-b632-fe13388cf3bc",
   "metadata": {},
   "outputs": [],
   "source": [
    "# int: số nguyên (x = 1 )\n",
    "# float: số thực ( x = 1.0 )\n",
    "# complex: số phức: ( x = 1 + 2j )\n",
    "# bool: true hoặc false\n",
    "# str: stirng  - chuỗi kí tự\n",
    "#NoneType: đối tượng đặc biệt chỉ ra giá trị null ( x = none )"
   ]
  },
  {
   "cell_type": "code",
   "execution_count": 4,
   "id": "cc69c818-f5d2-41cb-b0f1-960804401689",
   "metadata": {},
   "outputs": [
    {
     "name": "stdout",
     "output_type": "stream",
     "text": [
      "<class 'int'>\n",
      "<class 'float'>\n",
      "<class 'complex'>\n",
      "<class 'str'>\n",
      "<class 'bool'>\n",
      "<class 'NoneType'>\n"
     ]
    }
   ],
   "source": [
    "x = 1\n",
    "print(type(x))\n",
    "x = 1.0\n",
    "print(type(x))\n",
    "x = 1 + 2j\n",
    "print(type(x))\n",
    "x = 'abc'\n",
    "print(type(x))\n",
    "x = True\n",
    "print(type(x))\n",
    "x = None\n",
    "print(type(x))"
   ]
  },
  {
   "cell_type": "code",
   "execution_count": null,
   "id": "0e9fef2e-ca93-4b8b-a83c-4877cf5150f8",
   "metadata": {},
   "outputs": [],
   "source": []
  }
 ],
 "metadata": {
  "kernelspec": {
   "display_name": "Python 3 (ipykernel)",
   "language": "python",
   "name": "python3"
  },
  "language_info": {
   "codemirror_mode": {
    "name": "ipython",
    "version": 3
   },
   "file_extension": ".py",
   "mimetype": "text/x-python",
   "name": "python",
   "nbconvert_exporter": "python",
   "pygments_lexer": "ipython3",
   "version": "3.12.4"
  }
 },
 "nbformat": 4,
 "nbformat_minor": 5
}
