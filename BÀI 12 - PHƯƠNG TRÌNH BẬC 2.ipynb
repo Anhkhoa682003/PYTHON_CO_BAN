{
 "cells": [
  {
   "cell_type": "code",
   "execution_count": 41,
   "id": "7b0fa483-739c-45df-9536-6fd3771652cd",
   "metadata": {},
   "outputs": [],
   "source": [
    "# ĐỊnh nghĩa: phương trình bậc 2 ó dạng ax2+bx+c=0( a khac 0 )\n",
    "# cách giải:\n",
    "# tính biệt số delta= b mũ 2 -4ac\n",
    "# nếu delta < 0 thì phương trình vô nghiệm\n",
    "# nếu delta = 0 thì phương trình có nghiệm kép x1 = x2 = -b/2a\n",
    "# nếu delta > 0 thì phương trình có 2 nghiệm phân biệt: x1(2) =-b +(-) căn bậc 2 delta / 2a\n",
    "# dặc biệt nếu a+b+c = 0 thì phương trình có nghiệm x1 = 1; x2 = c/a\n",
    "# nếu a-b+c = 0 thì phương trình có nghiệm x1 = -1; x2 = -c/a"
   ]
  },
  {
   "cell_type": "code",
   "execution_count": 42,
   "id": "8ace9600-858e-41b7-a128-fcb92882d253",
   "metadata": {},
   "outputs": [],
   "source": [
    "import math"
   ]
  },
  {
   "cell_type": "code",
   "execution_count": 44,
   "id": "50669469-cd77-4fdb-b7cc-6f1bf7798614",
   "metadata": {},
   "outputs": [
    {
     "name": "stdin",
     "output_type": "stream",
     "text": [
      "Nhập vào số a:  2\n",
      "Nhập vào số a:  5\n",
      "Nhập vào số a:  2\n"
     ]
    }
   ],
   "source": [
    "a = float(input('Nhập vào số a: '))\n",
    "b = float(input('Nhập vào số a: '))\n",
    "c = float(input('Nhập vào số a: '))\n"
   ]
  },
  {
   "cell_type": "code",
   "execution_count": 39,
   "id": "4219cecf-a932-4457-b835-1738f0a732f4",
   "metadata": {},
   "outputs": [
    {
     "name": "stdout",
     "output_type": "stream",
     "text": [
      "2.0x^2+5.0x+2.0=0\n"
     ]
    }
   ],
   "source": [
    "print('{0}x^2+{1}x+{2}=0'.format(a,b,c))"
   ]
  },
  {
   "cell_type": "code",
   "execution_count": 40,
   "id": "b44ec686-5faf-41d5-9a25-23849855fc81",
   "metadata": {},
   "outputs": [
    {
     "name": "stdout",
     "output_type": "stream",
     "text": [
      "Phương trình có 2 nghiệm phân biệt: x1 = -2.0 và x2 = -2.0\n"
     ]
    }
   ],
   "source": [
    "if(a!=0):\n",
    "    delta = b**2 - 4*a*c\n",
    "    if (delta < 0):\n",
    "        print('Phương trình vô nghiệm !')\n",
    "    elif (delta == 0):\n",
    "        print('Phương trình có nghiệm kép: x1 = x2 = {0}'.format(x = -b/(2*a)))\n",
    "    else:\n",
    "        print('Phương trình có 2 nghiệm phân biệt: x1 = {x1} và x2 = {x1}'.format(x1= (-b-math.sqrt(delta))/(2*a),x2= (-b+math.sqrt(delta))/(2*a)))\n",
    "else:\n",
    "    print('Không phải phương trình bậc 2')"
   ]
  },
  {
   "cell_type": "code",
   "execution_count": null,
   "id": "2de9a088-3041-4917-8f20-ee13960d8d05",
   "metadata": {},
   "outputs": [],
   "source": []
  }
 ],
 "metadata": {
  "kernelspec": {
   "display_name": "Python 3 (ipykernel)",
   "language": "python",
   "name": "python3"
  },
  "language_info": {
   "codemirror_mode": {
    "name": "ipython",
    "version": 3
   },
   "file_extension": ".py",
   "mimetype": "text/x-python",
   "name": "python",
   "nbconvert_exporter": "python",
   "pygments_lexer": "ipython3",
   "version": "3.12.4"
  }
 },
 "nbformat": 4,
 "nbformat_minor": 5
}
