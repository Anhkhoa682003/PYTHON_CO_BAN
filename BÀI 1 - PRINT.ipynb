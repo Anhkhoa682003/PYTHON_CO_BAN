{
 "cells": [
  {
   "cell_type": "code",
   "execution_count": 13,
   "id": "6fa58417-ada2-4d6f-afbf-247ed334e946",
   "metadata": {},
   "outputs": [
    {
     "name": "stdout",
     "output_type": "stream",
     "text": [
      "xin chào thế giới\n"
     ]
    }
   ],
   "source": [
    "print('xin chào thế giới')"
   ]
  },
  {
   "cell_type": "code",
   "execution_count": 14,
   "id": "27473eb1-3fb0-45c2-9696-0ff40b295cb6",
   "metadata": {},
   "outputs": [
    {
     "name": "stdout",
     "output_type": "stream",
     "text": [
      "5\n"
     ]
    }
   ],
   "source": [
    "print(5)"
   ]
  },
  {
   "cell_type": "code",
   "execution_count": 15,
   "id": "c98cd8f6-e629-4a26-9072-ef6467beed73",
   "metadata": {},
   "outputs": [
    {
     "name": "stdout",
     "output_type": "stream",
     "text": [
      "Xin chào thế giới\n"
     ]
    }
   ],
   "source": [
    "print('Xin','chào','thế','giới')"
   ]
  },
  {
   "cell_type": "code",
   "execution_count": 16,
   "id": "16f37a78-4299-4a23-9c21-f16dea94e1de",
   "metadata": {},
   "outputs": [
    {
     "name": "stdout",
     "output_type": "stream",
     "text": [
      "xin, chào, thế, giới\n"
     ]
    }
   ],
   "source": [
    "#truyền biến ngăn cách dữ liệu sep\n",
    "print('xin','chào','thế','giới',sep=', ')"
   ]
  },
  {
   "cell_type": "code",
   "execution_count": 17,
   "id": "c6cc66a8-14d3-4187-b618-e337c2aac11c",
   "metadata": {},
   "outputs": [
    {
     "name": "stdout",
     "output_type": "stream",
     "text": [
      "xin, chào, thế, giới\n"
     ]
    }
   ],
   "source": [
    "# truyền biến end: kết thúc, không xuống dòng\n",
    "print('xin', end=', ')\n",
    "print('chào', end=', ')\n",
    "print('thế', end=', ')\n",
    "print('giới')"
   ]
  },
  {
   "cell_type": "code",
   "execution_count": 19,
   "id": "7e8ff456-903b-4475-a187-442efbfb1b2f",
   "metadata": {},
   "outputs": [
    {
     "name": "stdout",
     "output_type": "stream",
     "text": [
      "tôi tên là Anh Khoa\n"
     ]
    }
   ],
   "source": [
    "# truyền dữ liệu format {}\n",
    "print('tôi tên là {0} {1}'.format('Anh','Khoa'))"
   ]
  },
  {
   "cell_type": "code",
   "execution_count": null,
   "id": "fc50d625-08d1-4873-a75a-989803ea3948",
   "metadata": {},
   "outputs": [],
   "source": []
  }
 ],
 "metadata": {
  "kernelspec": {
   "display_name": "Python 3 (ipykernel)",
   "language": "python",
   "name": "python3"
  },
  "language_info": {
   "codemirror_mode": {
    "name": "ipython",
    "version": 3
   },
   "file_extension": ".py",
   "mimetype": "text/x-python",
   "name": "python",
   "nbconvert_exporter": "python",
   "pygments_lexer": "ipython3",
   "version": "3.12.4"
  }
 },
 "nbformat": 4,
 "nbformat_minor": 5
}
