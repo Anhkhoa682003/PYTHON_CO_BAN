{
 "cells": [
  {
   "cell_type": "code",
   "execution_count": 1,
   "id": "b6bf2e98-33fa-4704-8f11-7d0e7f21461c",
   "metadata": {},
   "outputs": [],
   "source": [
    "import math"
   ]
  },
  {
   "cell_type": "code",
   "execution_count": 7,
   "id": "db2237da-0d17-4115-86c9-23a60535cd14",
   "metadata": {},
   "outputs": [
    {
     "name": "stdin",
     "output_type": "stream",
     "text": [
      "Nhập vào số x:  10\n",
      "Nhập vào số y:  5\n"
     ]
    },
    {
     "name": "stdout",
     "output_type": "stream",
     "text": [
      "PI = 3.141592653589793\n",
      "ceil(x) = 10\n",
      "fabs(x) = 10.0\n",
      "floor(x) = 10\n",
      "exp(x) = 22026.465794806718\n",
      "pow(x,y) = 100000.0\n"
     ]
    }
   ],
   "source": [
    "x = float(input('Nhập vào số x: '))\n",
    "y = float(input('Nhập vào số y: '))\n",
    "print('PI = {0}'.format(math.pi))\n",
    "print('ceil(x) = {0}'.format(math.ceil(x))) # trả về giá trị trần của x, số nguyên nhỏ nhất lớn hơn hoặc bằng x\n",
    "print('fabs(x) = {0}'.format(math.fabs(x))) # trả về trị tuyệt đối của x\n",
    "print('floor(x) = {0}'.format(math.floor(x))) # trả về sàn của x, số nguyên lớn nhất nhỏ hơn hoặc bằng x\n",
    "print('exp(x) = {0}'.format(math.exp(x))) #trả về e luỹ thừa của x, trong đó e = 2,718281... là cơ số logarit tự nhiên\n",
    "#print('log(x [,base ]) = {0}'.format(math.log(x [,1 ]))) # với một đối số, trả về logarit tự nhiên của x ( cơ số e)\n",
    "print('pow(x,y) = {0}'.format(math.pow(x,y))) # trả về x luỹ thừa y\n"
   ]
  },
  {
   "cell_type": "code",
   "execution_count": null,
   "id": "763e5c35-4aa0-448b-b48e-9322ea41ead2",
   "metadata": {},
   "outputs": [],
   "source": []
  }
 ],
 "metadata": {
  "kernelspec": {
   "display_name": "Python 3 (ipykernel)",
   "language": "python",
   "name": "python3"
  },
  "language_info": {
   "codemirror_mode": {
    "name": "ipython",
    "version": 3
   },
   "file_extension": ".py",
   "mimetype": "text/x-python",
   "name": "python",
   "nbconvert_exporter": "python",
   "pygments_lexer": "ipython3",
   "version": "3.12.4"
  }
 },
 "nbformat": 4,
 "nbformat_minor": 5
}
