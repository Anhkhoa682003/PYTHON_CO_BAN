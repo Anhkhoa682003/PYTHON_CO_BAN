{
 "cells": [
  {
   "cell_type": "code",
   "execution_count": 3,
   "id": "280f4fc6-e3bc-4894-a56e-2a13607428e4",
   "metadata": {},
   "outputs": [
    {
     "name": "stdin",
     "output_type": "stream",
     "text": [
      "Nhập vào số a:  10\n"
     ]
    },
    {
     "name": "stdout",
     "output_type": "stream",
     "text": [
      "15.0\n",
      "10.0\n",
      "50.0\n",
      "10.0\n"
     ]
    }
   ],
   "source": [
    "a = float(input('Nhập vào số a: '))\n",
    "a+=5\n",
    "print(a)\n",
    "a-=5\n",
    "print(a)\n",
    "a*=5\n",
    "print(a)\n",
    "a/=5\n",
    "print(a)"
   ]
  },
  {
   "cell_type": "code",
   "execution_count": null,
   "id": "22ab4ffd-fe31-4a00-816b-e6cc4247d64d",
   "metadata": {},
   "outputs": [],
   "source": []
  }
 ],
 "metadata": {
  "kernelspec": {
   "display_name": "Python 3 (ipykernel)",
   "language": "python",
   "name": "python3"
  },
  "language_info": {
   "codemirror_mode": {
    "name": "ipython",
    "version": 3
   },
   "file_extension": ".py",
   "mimetype": "text/x-python",
   "name": "python",
   "nbconvert_exporter": "python",
   "pygments_lexer": "ipython3",
   "version": "3.12.4"
  }
 },
 "nbformat": 4,
 "nbformat_minor": 5
}
