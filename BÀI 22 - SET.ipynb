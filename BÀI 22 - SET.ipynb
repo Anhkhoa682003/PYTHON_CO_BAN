{
 "cells": [
  {
   "cell_type": "code",
   "execution_count": 1,
   "id": "b5869d11-918b-4043-8e3c-1ec831b9a331",
   "metadata": {},
   "outputs": [],
   "source": [
    " # set là một tập hợp khoogn có thứ tự, giá trị không được trùng nhau, không thể thay đổi và không được lặp chỉ mục. Nhưng có thể xoá các mục và thêm các mục mới\n",
    "# sử dụng cặp ngoặc { }"
   ]
  },
  {
   "cell_type": "code",
   "execution_count": 11,
   "id": "3c23d92c-c877-4d12-b873-be5283b7fa3d",
   "metadata": {},
   "outputs": [
    {
     "name": "stdout",
     "output_type": "stream",
     "text": [
      "{'lý', 'toán', 'hoá'}\n"
     ]
    }
   ],
   "source": [
    "# tạo mới\n",
    "monhoc = {'toán','lý','hoá'}\n",
    "print(monhoc)"
   ]
  },
  {
   "cell_type": "code",
   "execution_count": 13,
   "id": "3f1c40b9-23f2-4f8a-a2dc-b9cdf44539aa",
   "metadata": {},
   "outputs": [
    {
     "name": "stdout",
     "output_type": "stream",
     "text": [
      "lý\n",
      "toán\n",
      "hoá\n"
     ]
    }
   ],
   "source": [
    "# duyệt các phân tử trong set\n",
    "for x in monhoc:\n",
    "    print(x)"
   ]
  },
  {
   "cell_type": "code",
   "execution_count": 17,
   "id": "77d45bd6-572a-4e64-be2a-bf1fa53d07b8",
   "metadata": {},
   "outputs": [
    {
     "name": "stdout",
     "output_type": "stream",
     "text": [
      "{'lịch sử', 'lý', 'toán', 'hoá'}\n",
      "{'lịch sử', 'lý', 'toán', 'hoá'}\n"
     ]
    }
   ],
   "source": [
    "# thêm 1 phần tử - 1 môn học\n",
    "monhoc.add('lịch sử')\n",
    "print(monhoc)\n",
    "monhoc.add('lịch sử')\n",
    "print(monhoc)\n",
    "# không được trùng lặp phần tử - sẽ đè lên phần tử cũ trùng lặp"
   ]
  },
  {
   "cell_type": "code",
   "execution_count": 19,
   "id": "66630901-068c-4713-a3aa-1022e65c4773",
   "metadata": {},
   "outputs": [
    {
     "name": "stdout",
     "output_type": "stream",
     "text": [
      "{'lý', 'toán', 'hoá', 'anh văn', 'đàn piano', 'lịch sử'}\n"
     ]
    }
   ],
   "source": [
    "# tạo set mới và sáp nhập vào set cũ\n",
    "hocthem = {'anh văn','đàn piano'}\n",
    "monhoc.update(hocthem)\n",
    "print(monhoc)"
   ]
  },
  {
   "cell_type": "code",
   "execution_count": 21,
   "id": "9af8aa65-bd23-4a85-917e-15c049c188d2",
   "metadata": {},
   "outputs": [
    {
     "name": "stdout",
     "output_type": "stream",
     "text": [
      "{'toán', 'đàn piano', 'thể chất', 'võ thuật', 'anh văn', 'lịch sử', 'múa', 'lý', 'hoá'}\n"
     ]
    }
   ],
   "source": [
    "# tạo list và sáp nhập vào set\n",
    "hocphudao = ['võ thuật','múa','võ thuật','thể chất']\n",
    "monhoc.update(hocphudao)\n",
    "print(monhoc)\n",
    "# không được trùng lặp phần tử - sẽ đè lên phần tử cũ trùng lặp"
   ]
  },
  {
   "cell_type": "code",
   "execution_count": 25,
   "id": "f3194626-e760-479e-9d11-8acf18ab125f",
   "metadata": {},
   "outputs": [
    {
     "name": "stdout",
     "output_type": "stream",
     "text": [
      "{'toán', 'đàn piano', 'thể chất', 'võ thuật', 'anh văn', 'lịch sử', 'múa', 'lý', 'hoá'}\n"
     ]
    }
   ],
   "source": [
    "# xoá phân tử khỏi set\n",
    "monhoc.discard('sinh học')  # nếu có thì xoá, không có bỏ qua, không gây lỗi\n",
    "print(monhoc)"
   ]
  },
  {
   "cell_type": "code",
   "execution_count": 27,
   "id": "f52b488d-619e-4ce4-a779-e67579c7266d",
   "metadata": {},
   "outputs": [
    {
     "name": "stdout",
     "output_type": "stream",
     "text": [
      "{'đàn piano', 'thể chất', 'võ thuật', 'anh văn', 'lịch sử', 'múa', 'lý', 'hoá'}\n"
     ]
    }
   ],
   "source": [
    "# xoá phần tử đầu tiên\n",
    "monhoc.pop()\n",
    "print(monhoc)"
   ]
  },
  {
   "cell_type": "code",
   "execution_count": 29,
   "id": "720153bc-da74-4264-8d2c-96be5b59f8c0",
   "metadata": {},
   "outputs": [
    {
     "name": "stdout",
     "output_type": "stream",
     "text": [
      "set()\n"
     ]
    }
   ],
   "source": [
    "# xoá hết mọi phần từ trong set ( chừa lại set rỗng )\n",
    "monhoc.clear()\n",
    "print(monhoc)"
   ]
  },
  {
   "cell_type": "code",
   "execution_count": 31,
   "id": "89e2b284-7627-4980-b5c1-b157547b5151",
   "metadata": {},
   "outputs": [
    {
     "ename": "NameError",
     "evalue": "name 'monhoc' is not defined",
     "output_type": "error",
     "traceback": [
      "\u001b[1;31m---------------------------------------------------------------------------\u001b[0m",
      "\u001b[1;31mNameError\u001b[0m                                 Traceback (most recent call last)",
      "Cell \u001b[1;32mIn[31], line 3\u001b[0m\n\u001b[0;32m      1\u001b[0m \u001b[38;5;66;03m# xoá hết mọi phần từ trong set ( xoá luôn set rỗng )\u001b[39;00m\n\u001b[0;32m      2\u001b[0m \u001b[38;5;28;01mdel\u001b[39;00m monhoc\n\u001b[1;32m----> 3\u001b[0m \u001b[38;5;28mprint\u001b[39m(monhoc)\n",
      "\u001b[1;31mNameError\u001b[0m: name 'monhoc' is not defined"
     ]
    }
   ],
   "source": [
    "# xoá hết mọi phần từ trong set ( xoá luôn set rỗng )\n",
    "del monhoc\n",
    "print(monhoc)"
   ]
  },
  {
   "cell_type": "code",
   "execution_count": null,
   "id": "e5ab35b9-c08f-4259-ba9c-4b02dcaf2227",
   "metadata": {},
   "outputs": [],
   "source": []
  }
 ],
 "metadata": {
  "kernelspec": {
   "display_name": "Python 3 (ipykernel)",
   "language": "python",
   "name": "python3"
  },
  "language_info": {
   "codemirror_mode": {
    "name": "ipython",
    "version": 3
   },
   "file_extension": ".py",
   "mimetype": "text/x-python",
   "name": "python",
   "nbconvert_exporter": "python",
   "pygments_lexer": "ipython3",
   "version": "3.12.4"
  }
 },
 "nbformat": 4,
 "nbformat_minor": 5
}
