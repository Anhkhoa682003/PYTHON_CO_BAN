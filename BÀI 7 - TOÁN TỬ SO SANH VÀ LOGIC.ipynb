{
 "cells": [
  {
   "cell_type": "code",
   "execution_count": 1,
   "id": "c404f05d-16ab-48b1-acd2-0dc5757be4fa",
   "metadata": {},
   "outputs": [],
   "source": [
    "# > lớn hơn\n",
    "# < bé hơn\n",
    "# == so sánh bằng\n",
    "# != so sánh khác\n",
    "# >= lớn hơn hoặc bằng\n",
    "# <= bé hơn hoặc bằng\n"
   ]
  },
  {
   "cell_type": "code",
   "execution_count": 9,
   "id": "33098a36-526f-4095-a217-42300bd46dc1",
   "metadata": {},
   "outputs": [
    {
     "name": "stdin",
     "output_type": "stream",
     "text": [
      "Nhập vào số a:  5\n",
      "Nhập vào số b:  4\n"
     ]
    },
    {
     "name": "stdout",
     "output_type": "stream",
     "text": [
      "5.0 > 4.0 và mệnh đề True\n",
      "5.0 < 4.0 và mệnh đề False\n",
      "5.0 == 4.0 và mệnh đề False\n",
      "5.0 != 4.0 và mệnh đề True\n",
      "5.0 >= 4.0 và mệnh đề True\n",
      "5.0 <= 4.0 và mệnh đề False\n",
      "5.0 > 4.0 và mệnh đề True\n"
     ]
    },
    {
     "name": "stdin",
     "output_type": "stream",
     "text": [
      "Nhập vào số c:  6\n"
     ]
    },
    {
     "name": "stdout",
     "output_type": "stream",
     "text": [
      "5.0 > 4.0 và 4.0 > 6.0 là nhóm mệnh đề False\n",
      "5.0 > 4.0 hoặc 4.0 > 6.0 là nhóm mệnh đề False\n",
      "not 5.0 > 4.0 > 6.0 là nhóm mệnh đề True\n"
     ]
    }
   ],
   "source": [
    "a = float(input('Nhập vào số a: '))\n",
    "b = float(input('Nhập vào số b: '))\n",
    "print('{0} > {1} và mệnh đề {2}'.format(a,b,a>b))\n",
    "print('{0} < {1} và mệnh đề {2}'.format(a,b,a<b))\n",
    "print('{0} == {1} và mệnh đề {2}'.format(a,b,a==b))\n",
    "print('{0} != {1} và mệnh đề {2}'.format(a,b,a!=b))\n",
    "print('{0} >= {1} và mệnh đề {2}'.format(a,b,a>=b))\n",
    "print('{0} <= {1} và mệnh đề {2}'.format(a,b,a<=b))\n",
    "print('{0} > {1} và mệnh đề {2}'.format(a,b,a>b))\n",
    "c = float(input('Nhập vào số c: '))\n",
    "print('{0} > {1} và {2} > {3} là nhóm mệnh đề {4}'.format(a,b,b,c,(a>b) and (b>c)))\n",
    "print('{0} > {1} hoặc {2} > {3} là nhóm mệnh đề {4}'.format(a,b,b,c,(a>b) and (b>c)))\n",
    "print('not {0} > {1} > {2} là nhóm mệnh đề {3}'.format(a,b,c,not(a>b>c)))"
   ]
  },
  {
   "cell_type": "code",
   "execution_count": null,
   "id": "3f71ae26-4603-4856-9af9-d5c54f816bd3",
   "metadata": {},
   "outputs": [],
   "source": []
  }
 ],
 "metadata": {
  "kernelspec": {
   "display_name": "Python 3 (ipykernel)",
   "language": "python",
   "name": "python3"
  },
  "language_info": {
   "codemirror_mode": {
    "name": "ipython",
    "version": 3
   },
   "file_extension": ".py",
   "mimetype": "text/x-python",
   "name": "python",
   "nbconvert_exporter": "python",
   "pygments_lexer": "ipython3",
   "version": "3.12.4"
  }
 },
 "nbformat": 4,
 "nbformat_minor": 5
}
