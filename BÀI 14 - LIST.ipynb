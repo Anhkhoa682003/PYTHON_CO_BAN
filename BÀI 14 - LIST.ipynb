{
 "cells": [
  {
   "cell_type": "code",
   "execution_count": 33,
   "id": "c60bf1d0-9d11-4a3d-a62d-cbe4d2783efa",
   "metadata": {},
   "outputs": [
    {
     "name": "stdout",
     "output_type": "stream",
     "text": [
      "[]\n"
     ]
    }
   ],
   "source": [
    "# Tạo list rỗng\n",
    "emptyList = [] \n",
    "# hoặc emptylist = list()\n",
    "print(emptyList)"
   ]
  },
  {
   "cell_type": "code",
   "execution_count": 34,
   "id": "baacf547-6a93-4316-9e35-3804f8ea7455",
   "metadata": {},
   "outputs": [
    {
     "name": "stdout",
     "output_type": "stream",
     "text": [
      "['red', 'green', 'orange']\n",
      "orange\n",
      "['red', 'green']\n"
     ]
    }
   ],
   "source": [
    "# Tạo ra lít có dữ liệu\n",
    "colors = ['red','green','orange']\n",
    "print(colors)\n",
    "# hoặc print(colors[:])\n",
    "print(colors[2])\n",
    "print(colors[0:2]) # in ra các phàn từ từ 0 đến <2"
   ]
  },
  {
   "cell_type": "code",
   "execution_count": 35,
   "id": "02e33aa4-c627-48ce-98bb-eddb75cde4e6",
   "metadata": {},
   "outputs": [
    {
     "name": "stdout",
     "output_type": "stream",
     "text": [
      "['red', 'green', 'orange', 'purple']\n",
      "['red', 'green', 'gray', 'orange', 'purple']\n"
     ]
    }
   ],
   "source": [
    "# thêm phần tử vào cuối list:\n",
    "colors.append('purple')\n",
    "print(colors[:])\n",
    "# hoặc colors[len(colors):] = ['purple']\n",
    "# thêm phần tử vào vị trí tuỳ ý:\n",
    "colors.insert(2,'gray')\n",
    "print(colors[:])\n"
   ]
  },
  {
   "cell_type": "code",
   "execution_count": 36,
   "id": "9f918334-ab96-47c1-83ad-b6c25175cceb",
   "metadata": {},
   "outputs": [
    {
     "name": "stdout",
     "output_type": "stream",
     "text": [
      "5\n"
     ]
    }
   ],
   "source": [
    "# Số lượng phần tử có trong list: ( độ dài list)\n",
    "print(len(colors))"
   ]
  },
  {
   "cell_type": "code",
   "execution_count": 37,
   "id": "4d646e4f-6057-4aca-91aa-8f97adc40506",
   "metadata": {},
   "outputs": [
    {
     "name": "stdout",
     "output_type": "stream",
     "text": [
      "Đếm cam:  1\n"
     ]
    }
   ],
   "source": [
    "# đếm số lượng phần tử thoả điều kiện\n",
    "print('Đếm cam: ', colors.count('orange'))"
   ]
  },
  {
   "cell_type": "code",
   "execution_count": 38,
   "id": "0187fc14-0c28-4aaa-8d4c-fbce2784bab4",
   "metadata": {},
   "outputs": [
    {
     "name": "stdout",
     "output_type": "stream",
     "text": [
      "['gray', 'green', 'orange', 'purple', 'red']\n"
     ]
    }
   ],
   "source": [
    "# xếp list theo alphabet\n",
    "colors.sort()\n",
    "print(colors)"
   ]
  },
  {
   "cell_type": "code",
   "execution_count": 39,
   "id": "f441a68c-c717-44f3-807d-9ead77565968",
   "metadata": {},
   "outputs": [
    {
     "name": "stdout",
     "output_type": "stream",
     "text": [
      "['red', 'purple', 'orange', 'green', 'gray']\n"
     ]
    }
   ],
   "source": [
    " # đảo ngược list\n",
    "colors.reverse()\n",
    "print(colors)"
   ]
  },
  {
   "cell_type": "code",
   "execution_count": 40,
   "id": "b4c98808-f204-46cf-a906-6a65f777f183",
   "metadata": {},
   "outputs": [
    {
     "name": "stdout",
     "output_type": "stream",
     "text": [
      "['red', 'purple', 'orange', 'green']\n"
     ]
    }
   ],
   "source": [
    "# kiểm tra phần tử có trong list\n",
    "# xoá phần tử\n",
    "if 'gray' in colors:\n",
    "    colors.remove('gray')\n",
    "    print(colors)\n",
    "else:\n",
    "    print('Không có để xoá')"
   ]
  },
  {
   "cell_type": "code",
   "execution_count": 41,
   "id": "f6a21b31-da04-400a-9a55-e9cde612c5d2",
   "metadata": {},
   "outputs": [
    {
     "name": "stdout",
     "output_type": "stream",
     "text": [
      "['red', 'purple', 'green']\n"
     ]
    }
   ],
   "source": [
    "# xoá phần tử bằng vị trí\n",
    "colors.pop(2)\n",
    "print(colors)"
   ]
  },
  {
   "cell_type": "code",
   "execution_count": 42,
   "id": "16a3b80a-19ca-4217-b62f-8d48190f9303",
   "metadata": {},
   "outputs": [
    {
     "name": "stdout",
     "output_type": "stream",
     "text": [
      "[]\n"
     ]
    }
   ],
   "source": [
    "# xoá sạch dữu liệu trong list\n",
    "colors.clear()\n",
    "print(colors)"
   ]
  },
  {
   "cell_type": "code",
   "execution_count": null,
   "id": "edbf95bc-8f96-4484-b092-50eadf3ccc46",
   "metadata": {},
   "outputs": [],
   "source": []
  }
 ],
 "metadata": {
  "kernelspec": {
   "display_name": "Python 3 (ipykernel)",
   "language": "python",
   "name": "python3"
  },
  "language_info": {
   "codemirror_mode": {
    "name": "ipython",
    "version": 3
   },
   "file_extension": ".py",
   "mimetype": "text/x-python",
   "name": "python",
   "nbconvert_exporter": "python",
   "pygments_lexer": "ipython3",
   "version": "3.12.4"
  }
 },
 "nbformat": 4,
 "nbformat_minor": 5
}
