{
 "cells": [
  {
   "cell_type": "code",
   "execution_count": 3,
   "id": "d300ae5b-4db4-4fd3-b1d6-b832ce4559ba",
   "metadata": {},
   "outputs": [],
   "source": [
    "# [ TRẢ VỀ KHI ĐIỀU KIỆN ĐÚNG ] if [ điều kiện ] else [ trả về khi điều kiện sai ]"
   ]
  },
  {
   "cell_type": "code",
   "execution_count": 6,
   "id": "98b25807-9fac-4006-bbdb-048a5b16c6a0",
   "metadata": {},
   "outputs": [
    {
     "name": "stdin",
     "output_type": "stream",
     "text": [
      "Nhập vào sô x:  8\n"
     ]
    },
    {
     "name": "stdout",
     "output_type": "stream",
     "text": [
      "8.0 là số chẵn\n"
     ]
    }
   ],
   "source": [
    "x = float(input('Nhập vào sô x: '))\n",
    "kq = 'chẵn' if (x%2==0) else 'lẻ'\n",
    "print('{0} là số {1}'.format(x,kq))"
   ]
  },
  {
   "cell_type": "code",
   "execution_count": null,
   "id": "3a689b47-8468-4ded-a03e-a7977721f64f",
   "metadata": {},
   "outputs": [],
   "source": []
  }
 ],
 "metadata": {
  "kernelspec": {
   "display_name": "Python 3 (ipykernel)",
   "language": "python",
   "name": "python3"
  },
  "language_info": {
   "codemirror_mode": {
    "name": "ipython",
    "version": 3
   },
   "file_extension": ".py",
   "mimetype": "text/x-python",
   "name": "python",
   "nbconvert_exporter": "python",
   "pygments_lexer": "ipython3",
   "version": "3.12.4"
  }
 },
 "nbformat": 4,
 "nbformat_minor": 5
}
