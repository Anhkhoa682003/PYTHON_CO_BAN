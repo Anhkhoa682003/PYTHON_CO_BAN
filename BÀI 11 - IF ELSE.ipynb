{
 "cells": [
  {
   "cell_type": "code",
   "execution_count": 4,
   "id": "2e7b94a9-11cd-4942-8c55-d97c2ce908df",
   "metadata": {},
   "outputs": [
    {
     "name": "stdin",
     "output_type": "stream",
     "text": [
      "Nhập vào số a:  -2\n"
     ]
    },
    {
     "name": "stdout",
     "output_type": "stream",
     "text": [
      "0 là số âm\n",
      "-2.0 là số chẵn\n"
     ]
    }
   ],
   "source": [
    "a = float(input('Nhập vào số a: '))\n",
    "if a > 0:\n",
    "    print('{0} là số dương'.format(a))\n",
    "    if a % 2 == 0:\n",
    "        print('{0} là số chẵn'.format(a))\n",
    "    else:\n",
    "        print('{0} là số lẻ'.format(a))\n",
    "elif a < 0:\n",
    "    print('{0} là số âm'.format(0))\n",
    "    if a % 2 == 0:\n",
    "        print('{0} là số chẵn'.format(a))\n",
    "    else:\n",
    "        print('{0} là số lẻ'.format(a))\n",
    "else:\n",
    "    print('{0} là số 0'.format(a))"
   ]
  },
  {
   "cell_type": "code",
   "execution_count": null,
   "id": "9bfae25b-71e7-4dcf-85c2-7fe9ea19db07",
   "metadata": {},
   "outputs": [],
   "source": []
  }
 ],
 "metadata": {
  "kernelspec": {
   "display_name": "Python 3 (ipykernel)",
   "language": "python",
   "name": "python3"
  },
  "language_info": {
   "codemirror_mode": {
    "name": "ipython",
    "version": 3
   },
   "file_extension": ".py",
   "mimetype": "text/x-python",
   "name": "python",
   "nbconvert_exporter": "python",
   "pygments_lexer": "ipython3",
   "version": "3.12.4"
  }
 },
 "nbformat": 4,
 "nbformat_minor": 5
}
